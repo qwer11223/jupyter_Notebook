{
 "cells": [
  {
   "cell_type": "code",
   "execution_count": 1,
   "metadata": {},
   "outputs": [],
   "source": [
    "import numpy as np"
   ]
  },
  {
   "cell_type": "code",
   "execution_count": 3,
   "metadata": {},
   "outputs": [
    {
     "name": "stdout",
     "output_type": "stream",
     "text": [
      "[[0.68070469 0.04423485]\n",
      " [0.10637009 0.56671845]\n",
      " [0.00861201 0.36851297]\n",
      " [0.76688963 0.07725587]]\n",
      "(4, 2)\n"
     ]
    }
   ],
   "source": [
    "# 1. rand\n",
    "rand_=np.random.rand(4,2)   #根据给定维度生成[0,1)之间的数据，包含0，不包含1\n",
    "print(rand_)\n",
    "print(np.shape(rand_))"
   ]
  },
  {
   "cell_type": "code",
   "execution_count": 5,
   "metadata": {},
   "outputs": [
    {
     "name": "stdout",
     "output_type": "stream",
     "text": [
      "[[ 0.32351172  0.53433892]\n",
      " [-0.58246373  0.66134538]\n",
      " [-0.78636358  1.14217209]\n",
      " [-2.11122813 -0.19238754]]\n"
     ]
    }
   ],
   "source": [
    "# 2. randn\n",
    "randn_=np.random.randn(4,2) #返回一个或一组样本，具有标准正态分布\n",
    "print(randn_)"
   ]
  },
  {
   "cell_type": "code",
   "execution_count": 6,
   "metadata": {},
   "outputs": [
    {
     "name": "stdout",
     "output_type": "stream",
     "text": [
      "[[2 2 4]\n",
      " [4 1 1]\n",
      " [2 4 3]\n",
      " [4 3 3]\n",
      " [1 4 4]\n",
      " [4 2 4]\n",
      " [1 3 2]\n",
      " [3 3 4]\n",
      " [3 3 2]\n",
      " [2 3 2]\n",
      " [2 2 2]\n",
      " [1 4 1]\n",
      " [2 1 3]\n",
      " [3 3 1]]\n"
     ]
    }
   ],
   "source": [
    "# 3. randint\n",
    "randint_=np.random.randint(1,5,(14,3)) #返回随机整数，范围区间为[low,high），包含low，不包含high\n",
    "print((randint_))"
   ]
  },
  {
   "cell_type": "code",
   "execution_count": 7,
   "metadata": {},
   "outputs": [
    {
     "name": "stdout",
     "output_type": "stream",
     "text": [
      "[[1 7 3]\n",
      " [7 3 5]]\n"
     ]
    }
   ],
   "source": [
    "# 4. choice\n",
    "arr=[1,3,5,7]\n",
    "choice=np.random.choice(arr,(2,3)) #从给定的一维数组中生成随机数\n",
    "print(choice)"
   ]
  },
  {
   "cell_type": "code",
   "execution_count": 8,
   "metadata": {},
   "outputs": [
    {
     "name": "stdout",
     "output_type": "stream",
     "text": [
      "0.417022004702574\n"
     ]
    }
   ],
   "source": [
    "# 5. seed\n",
    "np.random.seed(1)   #当我们设置相同的seed，每次生成的随机数相同。如果不设置seed，则每次会生成不同的随机数\n",
    "print(np.random.rand())"
   ]
  }
 ],
 "metadata": {
  "kernelspec": {
   "display_name": "Python 3",
   "language": "python",
   "name": "python3"
  },
  "language_info": {
   "codemirror_mode": {
    "name": "ipython",
    "version": 3
   },
   "file_extension": ".py",
   "mimetype": "text/x-python",
   "name": "python",
   "nbconvert_exporter": "python",
   "pygments_lexer": "ipython3",
   "version": "3.7.3"
  }
 },
 "nbformat": 4,
 "nbformat_minor": 2
}
